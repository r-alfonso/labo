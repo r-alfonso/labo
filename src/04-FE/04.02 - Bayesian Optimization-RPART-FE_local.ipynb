{
 "cells": [
  {
   "cell_type": "code",
   "execution_count": 20,
   "id": "2092837f",
   "metadata": {
    "vscode": {
     "languageId": "r"
    }
   },
   "outputs": [
    {
     "data": {
      "text/html": [
       "<table class=\"dataframe\">\n",
       "<caption>A matrix: 2 × 6 of type dbl</caption>\n",
       "<thead>\n",
       "\t<tr><th></th><th scope=col>used</th><th scope=col>(Mb)</th><th scope=col>gc trigger</th><th scope=col>(Mb)</th><th scope=col>max used</th><th scope=col>(Mb)</th></tr>\n",
       "</thead>\n",
       "<tbody>\n",
       "\t<tr><th scope=row>Ncells</th><td>2120324</td><td>113.3</td><td>4338208</td><td>231.7</td><td>2960424</td><td>158.2</td></tr>\n",
       "\t<tr><th scope=row>Vcells</th><td>3570277</td><td> 27.3</td><td>8388608</td><td> 64.0</td><td>6323376</td><td> 48.3</td></tr>\n",
       "</tbody>\n",
       "</table>\n"
      ],
      "text/latex": [
       "A matrix: 2 × 6 of type dbl\n",
       "\\begin{tabular}{r|llllll}\n",
       "  & used & (Mb) & gc trigger & (Mb) & max used & (Mb)\\\\\n",
       "\\hline\n",
       "\tNcells & 2120324 & 113.3 & 4338208 & 231.7 & 2960424 & 158.2\\\\\n",
       "\tVcells & 3570277 &  27.3 & 8388608 &  64.0 & 6323376 &  48.3\\\\\n",
       "\\end{tabular}\n"
      ],
      "text/markdown": [
       "\n",
       "A matrix: 2 × 6 of type dbl\n",
       "\n",
       "| <!--/--> | used | (Mb) | gc trigger | (Mb) | max used | (Mb) |\n",
       "|---|---|---|---|---|---|---|\n",
       "| Ncells | 2120324 | 113.3 | 4338208 | 231.7 | 2960424 | 158.2 |\n",
       "| Vcells | 3570277 |  27.3 | 8388608 |  64.0 | 6323376 |  48.3 |\n",
       "\n"
      ],
      "text/plain": [
       "       used    (Mb)  gc trigger (Mb)  max used (Mb) \n",
       "Ncells 2120324 113.3 4338208    231.7 2960424  158.2\n",
       "Vcells 3570277  27.3 8388608     64.0 6323376   48.3"
      ]
     },
     "metadata": {},
     "output_type": "display_data"
    }
   ],
   "source": [
    "#Optimizacion Bayesiana de hiperparametros de  rpart\n",
    "#funciona automaticamente con EXPERIMENTOS\n",
    "#va generando incrementalmente salidas para kaggle\n",
    "\n",
    "#limpio la memoria\n",
    "rm( list=ls() )  #remove all objects\n",
    "gc()             #garbage collection\n",
    "\n",
    "library(\"data.table\")\n",
    "library(\"rlist\")\n",
    "library(\"yaml\")\n",
    "\n",
    "library(\"rpart\")\n",
    "library(\"parallel\")\n",
    "\n",
    "#paquetes necesarios para la Bayesian Optimization\n",
    "library(\"DiceKriging\")\n",
    "library(\"mlrMBO\")"
   ]
  },
  {
   "cell_type": "code",
   "execution_count": 21,
   "id": "cdbf9f90",
   "metadata": {
    "vscode": {
     "languageId": "r"
    }
   },
   "outputs": [],
   "source": [
    "#para poder usarlo en la PC y en la nube\n",
    "switch ( Sys.info()[['sysname']],\n",
    "         Windows = { directory.root   <-  \"M:\\\\\" },   #Microsoft Windows\n",
    "         Darwin  = { directory.root   <-  \"~/dm/\" },  #Apple MAC\n",
    "#         Linux   = { directory.root   <-  \"~/buckets/b1/\" }  #Entorno Google Cloud\n",
    "         Linux   = { directory.root   <-  \"~/\" }  #Hay un problema en el almacenamiento en cloud del BO por el momento se graba en el usuario\n",
    "       )\n",
    "#defino la carpeta donde trabajo\n",
    "\n",
    "#Hay un error en el almacenamiento \n",
    "\n",
    "setwd(\"C:/Users/bbvis/Documents/RG/Master/laboratorio\")"
   ]
  },
  {
   "cell_type": "code",
   "execution_count": 32,
   "id": "0b489a50",
   "metadata": {
    "vscode": {
     "languageId": "r"
    }
   },
   "outputs": [],
   "source": [
    "kexperimento  <- NA   #NA si se corre la primera vez, un valor concreto si es para continuar procesando\n",
    "\n",
    "kscript           <- \"04.02 - BO Rpart FE local\"\n",
    "kBO_iter    <-  200   #cantidad de iteraciones de la Optimizacion Bayesiana\n",
    "\n",
    "kcarpeta_datasets    <- \"./datasets/\"\n",
    "\n",
    "#\"./buckets/b1/datasets/\"                          #VM o Ubuntu\n",
    "\n",
    "#Archivo con datos etiquetados para entrenamiento\n",
    "karchivo_entrada      <-  paste0(kcarpeta_datasets, \"competencia1_2022_FE_test1.csv\")\n",
    "\n",
    "\n",
    "#Ganancia por TP\n",
    "kTPGain               <-  78000\n",
    "\n",
    "#Pérdida por FP\n",
    "kFPGain               <-  -2000\n",
    "\n",
    "\n",
    "hs  <- makeParamSet(\n",
    "          makeNumericParam(\"cp\"       , lower= -1   , upper=    0.1),\n",
    "          makeIntegerParam(\"minsplit\" , lower=  1L  , upper= 8000L),  #la letra L al final significa ENTERO\n",
    "          makeIntegerParam(\"minbucket\", lower=  1L  , upper= 2000L),\n",
    "          makeIntegerParam(\"maxdepth\" , lower=  3L  , upper=   20L),\n",
    "          forbidden = quote( minbucket > 0.5*minsplit ) )\n",
    "\n",
    "\n",
    "ksemilla_azar  <- 220789"
   ]
  },
  {
   "cell_type": "markdown",
   "id": "426b9b91-0ff7-45dd-8245-a32801ff5b76",
   "metadata": {
    "vscode": {
     "languageId": "r"
    }
   },
   "source": [
    "#------------------------------------------------------------------------------\n",
    "#Funcion que lleva el registro de los experimentos\n",
    "\n",
    "get_experimento  <- function()\n",
    "{\n",
    "  if( !file.exists( \"./maestro.yaml\" ) )  cat( file=\"./maestro.yaml\", \"experimento: 1000\" )\n",
    "\n",
    "  exp  <- read_yaml( \"./maestro.yaml\" )\n",
    "  experimento_actual  <- exp$experimento\n",
    "\n",
    "  exp$experimento  <- as.integer(exp$experimento + 1)\n",
    "  Sys.chmod( \"./maestro.yaml\", mode = \"0644\", use_umask = TRUE)\n",
    "  write_yaml( exp, \"./maestro.yaml\" )\n",
    "  Sys.chmod( \"./maestro.yaml\", mode = \"0444\", use_umask = TRUE) #dejo el archivo readonly\n",
    "\n",
    "  return( experimento_actual )\n",
    "}"
   ]
  },
  {
   "cell_type": "code",
   "execution_count": 33,
   "id": "d2e38325-19a3-4e59-8b0a-26471a2c4fd5",
   "metadata": {
    "vscode": {
     "languageId": "r"
    }
   },
   "outputs": [],
   "source": [
    "#------------------------------------------------------------------------------\n",
    "#Funcion que lleva el registro de los experimentos\n",
    "\n",
    "get_experimento  <- function()\n",
    "{\n",
    "  if( !file.exists( \"./maestro.yaml\" ) )  cat( file=\"./maestro.yaml\", \"experimento: 1000\" )\n",
    "\n",
    "  exp  <- read_yaml( \"./maestro.yaml\" )\n",
    "  experimento_actual  <- exp$experimento\n",
    "\n",
    "  exp$experimento  <- as.integer(exp$experimento + 1)\n",
    "  Sys.chmod( \"./maestro.yaml\", mode = \"0644\", use_umask = TRUE)\n",
    "  write_yaml( exp, \"./maestro.yaml\" )\n",
    "  Sys.chmod( \"./maestro.yaml\", mode = \"0444\", use_umask = TRUE) #dejo el archivo readonly\n",
    "\n",
    "  return( experimento_actual )\n",
    "}"
   ]
  },
  {
   "cell_type": "code",
   "execution_count": 34,
   "id": "1e9841a2",
   "metadata": {
    "vscode": {
     "languageId": "r"
    }
   },
   "outputs": [],
   "source": [
    "#------------------------------------------------------------------------------\n",
    "#funcion para particionar, es la que Andres reemplaza con caret\n",
    "\n",
    "particionar  <- function( data, division, agrupa=\"\", campo=\"fold\", start=1, seed=NA )\n",
    "{\n",
    "  if( !is.na( seed)  )   set.seed( seed )\n",
    "\n",
    "  bloque  <- unlist( mapply(  function(x,y) { rep( y, x ) }, division, seq( from=start, length.out=length(division) )  ) )\n",
    "\n",
    "  data[ , (campo) :=  sample( rep( bloque, ceiling(.N/length(bloque))) )[1:.N],\n",
    "           by= agrupa ]\n",
    "}\n",
    "#------------------------------------------------------------------------------"
   ]
  },
  {
   "cell_type": "code",
   "execution_count": 35,
   "id": "c1e1901e",
   "metadata": {
    "vscode": {
     "languageId": "r"
    }
   },
   "outputs": [],
   "source": [
    "ArbolSimple  <- function( fold_test, data, param )\n",
    "{\n",
    "  #genero el modelo\n",
    "  modelo  <- rpart(\"clase_ternaria ~ .\", \n",
    "                   data= data[ fold != fold_test, ],\n",
    "                   xval= 0,\n",
    "                   control= param )\n",
    "\n",
    "  #aplico el modelo a los datos de testing, fold==2\n",
    "  prediccion  <- predict( modelo, data[ fold==fold_test, ], type = \"prob\")\n",
    "\n",
    "  prob_baja2  <- prediccion[, \"BAJA+2\"]\n",
    "\n",
    "  ganancia_testing  <- sum(  data[ fold==fold_test ][ prob_baja2 >0.025,  ifelse( clase_ternaria==\"BAJA+2\", kTPGain, kFPGain ) ] )\n",
    "\n",
    "  return( ganancia_testing )\n",
    "}"
   ]
  },
  {
   "cell_type": "code",
   "execution_count": 44,
   "id": "3f25f951",
   "metadata": {
    "vscode": {
     "languageId": "r"
    }
   },
   "outputs": [],
   "source": [
    "#------------------------------------------------------------------------------\n",
    "\n",
    "ArbolesCrossValidation  <- function( data, param, qfolds, pagrupa, semilla )\n",
    "{\n",
    "  divi  <- rep( 1, qfolds )\n",
    "  particionar( data, divi, seed=semilla, agrupa=pagrupa )\n",
    "\n",
    "  ganancias  <- mcmapply( ArbolSimple, \n",
    "                          seq(qfolds), # 1 2 3 4 5  \n",
    "                          MoreArgs= list( data, param), \n",
    "                          SIMPLIFY= FALSE,\n",
    "                          mc.cores= 1 )   #se puede subir a 5 si posee Linux o Mac OS a 1 es siempre con windows\n",
    "\n",
    "  data[ , fold := NULL ]\n",
    "  #devuelvo la primer ganancia y el promedio\n",
    "  return( mean( unlist( ganancias )) *  qfolds )   #aqui normalizo la ganancia\n",
    "}"
   ]
  },
  {
   "cell_type": "code",
   "execution_count": 45,
   "id": "6ba36867",
   "metadata": {
    "vscode": {
     "languageId": "r"
    }
   },
   "outputs": [],
   "source": [
    "#------------------------------------------------------------------------------\n",
    "#esta funcion solo puede recibir los parametros que se estan optimizando\n",
    "#el resto de los parametros se pasan como variables globales\n",
    "\n",
    "EstimarGanancia  <- function( x )\n",
    "{\n",
    "   GLOBAL_iteracion  <<-  GLOBAL_iteracion + 1\n",
    "\n",
    "   xval_folds  <- 5\n",
    "   ganancia  <-  ArbolesCrossValidation( dtrain, param=x, qfolds= xval_folds, pagrupa=\"clase_ternaria\", semilla=ksemilla_azar )\n",
    "\n",
    "   #si tengo una ganancia superadora, genero el archivo para Kaggle\n",
    "   if(  ganancia > GLOBAL_ganancia_max )\n",
    "   {\n",
    "     GLOBAL_ganancia_max <<-  ganancia  #asigno la nueva maxima ganancia\n",
    "    \n",
    "     modelo  <- rpart(\"clase_ternaria ~ .\",\n",
    "                      data= dtrain,\n",
    "                      xval= 0,\n",
    "                      control= x )\n",
    "\n",
    "     #genero el vector con la prediccion, la probabilidad de ser positivo\n",
    "     prediccion  <- predict( modelo, dapply)\n",
    "\n",
    "     prob_baja2  <- prediccion[, \"BAJA+2\"]\n",
    "     Predicted   <- ifelse( prob_baja2 > 0.025, 1, 0 )\n",
    "\n",
    "     entrega  <-  as.data.table( list( \"numero_de_cliente\"=dapply$numero_de_cliente, \"Predicted\"=Predicted)  )\n",
    "\n",
    "     #genero el archivo para Kaggle\n",
    "     fwrite( entrega, \n",
    "             file= paste0(kkaggle, GLOBAL_iteracion, \".csv\" ),\n",
    "             sep=  \",\" )\n",
    "   }\n",
    "\n",
    "   return( ganancia )\n",
    "}\n",
    "#------------------------------------------------------------------------------"
   ]
  },
  {
   "cell_type": "code",
   "execution_count": 46,
   "id": "3bdbd4cb",
   "metadata": {
    "vscode": {
     "languageId": "r"
    }
   },
   "outputs": [],
   "source": [
    "#Aqui empieza el programa\n",
    "\n",
    "if( is.na(kexperimento ) )   kexperimento <- get_experimento()  #creo el experimento"
   ]
  },
  {
   "cell_type": "code",
   "execution_count": 47,
   "id": "57f2a412",
   "metadata": {
    "vscode": {
     "languageId": "r"
    }
   },
   "outputs": [],
   "source": [
    "#en estos archivos quedan los resultados\n",
    "kbayesiana  <- paste0(\"./E\",  kexperimento, \"_rpart.RDATA\" )\n",
    "kkaggle     <- paste0(\"./E\",kexperimento, \"_rpart_kaggle_\" )"
   ]
  },
  {
   "cell_type": "code",
   "execution_count": 48,
   "id": "a555476f",
   "metadata": {
    "vscode": {
     "languageId": "r"
    }
   },
   "outputs": [],
   "source": [
    "GLOBAL_ganancia_max  <-  -Inf\n",
    "GLOBAL_iteracion  <- 0"
   ]
  },
  {
   "cell_type": "code",
   "execution_count": 49,
   "id": "81cc80f4",
   "metadata": {
    "vscode": {
     "languageId": "r"
    }
   },
   "outputs": [],
   "source": [
    "#cargo los datos\n",
    "dataset <- fread(karchivo_entrada)\n",
    "\n",
    "#Para hacer pruebas rapidas puedo reducir el dataset a una fraccion\n",
    "#subsample <- sample(1:nrow(dataset), .1 * nrow(dataset))\n",
    "#dataset <- dataset[subsample,]\n",
    "\n",
    "dtrain  <- dataset[ foto_mes==202101 ]  #defino donde voy a entrenar\n",
    "\n",
    "dapply  <- dataset[ foto_mes==202103 ]  #defino donde voy a aplicar el modelo"
   ]
  },
  {
   "cell_type": "code",
   "execution_count": 50,
   "id": "c81db6a6",
   "metadata": {
    "vscode": {
     "languageId": "r"
    }
   },
   "outputs": [],
   "source": [
    "#Aqui comienza la configuracion de la Bayesian Optimization\n",
    "\n",
    "configureMlr( show.learner.output = FALSE)\n",
    "\n",
    "funcion_optimizar  <- EstimarGanancia\n",
    "\n",
    "#configuro la busqueda bayesiana,  los hiperparametros que se van a optimizar\n",
    "#por favor, no desesperarse por lo complejo\n",
    "obj.fun  <- makeSingleObjectiveFunction(\n",
    "              fn=       funcion_optimizar,\n",
    "              minimize= FALSE,   #estoy Maximizando la ganancia\n",
    "              noisy=    TRUE,\n",
    "              par.set=  hs,\n",
    "              has.simple.signature = FALSE\n",
    "             )\n",
    "\n",
    "ctrl  <- makeMBOControl( save.on.disk.at.time= 60,  save.file.path= kbayesiana)\n",
    "ctrl  <- setMBOControlTermination(ctrl, iters= kBO_iter )\n",
    "ctrl  <- setMBOControlInfill(ctrl, crit= makeMBOInfillCritEI())\n",
    "\n",
    "surr.km  <-  makeLearner(\"regr.km\", predict.type= \"se\", covtype= \"matern3_2\", control= list(trace= TRUE))"
   ]
  },
  {
   "cell_type": "code",
   "execution_count": null,
   "id": "9383ca74",
   "metadata": {
    "vscode": {
     "languageId": "r"
    }
   },
   "outputs": [
    {
     "name": "stderr",
     "output_type": "stream",
     "text": [
      "Computing y column(s) for design. Not provided.\n",
      "\n",
      "[mbo] 0: cp=-0.515; minsplit=3277; minbucket=563; maxdepth=8 : y = 1.83e+07 : 37.0 secs : initdesign\n",
      "\n",
      "[mbo] 0: cp=-0.323; minsplit=5983; minbucket=653; maxdepth=11 : y = 1.66e+07 : 38.4 secs : initdesign\n",
      "\n",
      "[mbo] 0: cp=-0.169; minsplit=4761; minbucket=1494; maxdepth=17 : y = 1.7e+07 : 47.1 secs : initdesign\n",
      "\n",
      "[mbo] 0: cp=-0.559; minsplit=3938; minbucket=1238; maxdepth=9 : y = 1.76e+07 : 41.3 secs : initdesign\n",
      "\n",
      "[mbo] 0: cp=-0.436; minsplit=5296; minbucket=1715; maxdepth=7 : y = 1.7e+07 : 34.7 secs : initdesign\n",
      "\n",
      "[mbo] 0: cp=-0.207; minsplit=6806; minbucket=968; maxdepth=19 : y = 1.59e+07 : 46.1 secs : initdesign\n",
      "\n",
      "[mbo] 0: cp=-0.0466; minsplit=1842; minbucket=296; maxdepth=4 : y = 1.86e+07 : 24.7 secs : initdesign\n",
      "\n",
      "[mbo] 0: cp=-0.885; minsplit=7347; minbucket=30; maxdepth=13 : y = 1.53e+07 : 40.2 secs : initdesign\n",
      "\n",
      "[mbo] 0: cp=0.0949; minsplit=7617; minbucket=1085; maxdepth=6 : y = 0 : 18.7 secs : initdesign\n",
      "\n",
      "[mbo] 0: cp=-0.822; minsplit=4160; minbucket=1984; maxdepth=15 : y = 1.82e+07 : 41.4 secs : initdesign\n",
      "\n",
      "[mbo] 0: cp=-0.308; minsplit=2390; minbucket=226; maxdepth=17 : y = 1.91e+07 : 69.2 secs : initdesign\n",
      "\n",
      "[mbo] 0: cp=-0.989; minsplit=6084; minbucket=778; maxdepth=3 : y = 1.66e+07 : 17.1 secs : initdesign\n",
      "\n",
      "[mbo] 0: cp=-0.126; minsplit=3329; minbucket=796; maxdepth=13 : y = 1.84e+07 : 48.4 secs : initdesign\n",
      "\n",
      "[mbo] 0: cp=-0.89; minsplit=1730; minbucket=143; maxdepth=16 : y = 1.97e+07 : 76.7 secs : initdesign\n",
      "\n",
      "[mbo] 0: cp=-0.586; minsplit=5400; minbucket=1702; maxdepth=8 : y = 1.7e+07 : 29.9 secs : initdesign\n",
      "\n",
      "[mbo] 0: cp=-0.408; minsplit=8000; minbucket=1500; maxdepth=4 : y = 1.59e+07 : 21.3 secs : initdesign\n",
      "\n",
      "Saved the current state after iteration 1 in the file ./E1002_rpart.RDATA.\n",
      "\n",
      "[mbo] 1: cp=-0.175; minsplit=9; minbucket=3; maxdepth=3 : y = 1.68e+07 : 19.1 secs : infill_ei\n",
      "\n",
      "[mbo] 2: cp=-0.745; minsplit=2176; minbucket=1022; maxdepth=19 : y = 1.85e+07 : 42.7 secs : infill_ei\n",
      "\n",
      "Saved the current state after iteration 3 in the file ./E1002_rpart.RDATA.\n",
      "\n",
      "[mbo] 3: cp=-0.936; minsplit=2993; minbucket=1; maxdepth=15 : y = 1.82e+07 : 54.2 secs : infill_ei\n",
      "\n",
      "[mbo] 4: cp=-0.0772; minsplit=21; minbucket=6; maxdepth=20 : y = 8.77e+06 : 81.0 secs : infill_ei\n",
      "\n",
      "Saved the current state after iteration 5 in the file ./E1002_rpart.RDATA.\n",
      "\n",
      "[mbo] 5: cp=-0.869; minsplit=1092; minbucket=546; maxdepth=20 : y = 1.87e+07 : 48.3 secs : infill_ei\n",
      "\n",
      "[mbo] 6: cp=-0.293; minsplit=2173; minbucket=424; maxdepth=4 : y = 1.79e+07 : 19.4 secs : infill_ei\n",
      "\n",
      "Saved the current state after iteration 7 in the file ./E1002_rpart.RDATA.\n",
      "\n",
      "[mbo] 7: cp=-0.866; minsplit=1145; minbucket=569; maxdepth=8 : y = 1.83e+07 : 39.6 secs : infill_ei\n",
      "\n",
      "[mbo] 8: cp=-0.394; minsplit=3620; minbucket=150; maxdepth=19 : y = 1.76e+07 : 65.7 secs : infill_ei\n",
      "\n",
      "Saved the current state after iteration 9 in the file ./E1002_rpart.RDATA.\n",
      "\n",
      "[mbo] 9: cp=-0.606; minsplit=1784; minbucket=2; maxdepth=14 : y = 1.91e+07 : 54.5 secs : infill_ei\n",
      "\n",
      "[mbo] 10: cp=-0.299; minsplit=2108; minbucket=1047; maxdepth=15 : y = 1.86e+07 : 40.7 secs : infill_ei\n",
      "\n",
      "Saved the current state after iteration 11 in the file ./E1002_rpart.RDATA.\n",
      "\n",
      "[mbo] 11: cp=-0.214; minsplit=2673; minbucket=5; maxdepth=11 : y = 1.8e+07 : 40.8 secs : infill_ei\n",
      "\n",
      "[mbo] 12: cp=-0.794; minsplit=10; minbucket=5; maxdepth=15 : y = 1.09e+07 : 60.4 secs : infill_ei\n",
      "\n",
      "Saved the current state after iteration 13 in the file ./E1002_rpart.RDATA.\n",
      "\n",
      "[mbo] 13: cp=-0.999; minsplit=1738; minbucket=868; maxdepth=20 : y = 1.83e+07 : 44.2 secs : infill_ei\n",
      "\n",
      "[mbo] 14: cp=-0.489; minsplit=6528; minbucket=1999; maxdepth=20 : y = 1.66e+07 : 36.7 secs : infill_ei\n",
      "\n",
      "Saved the current state after iteration 15 in the file ./E1002_rpart.RDATA.\n",
      "\n",
      "[mbo] 15: cp=-0.841; minsplit=2002; minbucket=490; maxdepth=13 : y = 1.92e+07 : 51.2 secs : infill_ei\n",
      "\n",
      "[mbo] 16: cp=-0.868; minsplit=1801; minbucket=10; maxdepth=20 : y = 1.76e+07 : 79.6 secs : infill_ei\n",
      "\n",
      "Saved the current state after iteration 17 in the file ./E1002_rpart.RDATA.\n",
      "\n",
      "[mbo] 17: cp=-0.902; minsplit=1445; minbucket=709; maxdepth=16 : y = 1.83e+07 : 52.0 secs : infill_ei\n",
      "\n",
      "[mbo] 18: cp=-0.981; minsplit=1717; minbucket=82; maxdepth=4 : y = 1.79e+07 : 21.7 secs : infill_ei\n",
      "\n",
      "Saved the current state after iteration 19 in the file ./E1002_rpart.RDATA.\n",
      "\n",
      "[mbo] 19: cp=-0.711; minsplit=1756; minbucket=284; maxdepth=14 : y = 1.97e+07 : 50.9 secs : infill_ei\n",
      "\n",
      "[mbo] 20: cp=-0.999; minsplit=5316; minbucket=855; maxdepth=20 : y = 1.7e+07 : 44.4 secs : infill_ei\n",
      "\n",
      "Saved the current state after iteration 21 in the file ./E1002_rpart.RDATA.\n",
      "\n",
      "[mbo] 21: cp=0.0981; minsplit=1792; minbucket=542; maxdepth=18 : y = 0 : 18.2 secs : infill_ei\n",
      "\n",
      "[mbo] 22: cp=-0.355; minsplit=3140; minbucket=796; maxdepth=14 : y = 1.84e+07 : 43.2 secs : infill_ei\n",
      "\n",
      "Saved the current state after iteration 23 in the file ./E1002_rpart.RDATA.\n",
      "\n",
      "[mbo] 23: cp=-0.713; minsplit=2148; minbucket=120; maxdepth=8 : y = 1.93e+07 : 32.7 secs : infill_ei\n",
      "\n",
      "[mbo] 24: cp=-0.113; minsplit=3242; minbucket=792; maxdepth=3 : y = 1.69e+07 : 16.2 secs : infill_ei\n",
      "\n",
      "[mbo] 25: cp=-0.509; minsplit=2372; minbucket=425; maxdepth=16 : y = 1.88e+07 : 46.8 secs : infill_ei\n",
      "\n",
      "Saved the current state after iteration 26 in the file ./E1002_rpart.RDATA.\n",
      "\n",
      "[mbo] 26: cp=-0.704; minsplit=4563; minbucket=360; maxdepth=16 : y = 1.7e+07 : 44.8 secs : infill_ei\n",
      "\n",
      "[mbo] 27: cp=-0.879; minsplit=1877; minbucket=47; maxdepth=9 : y = 1.86e+07 : 35.3 secs : infill_ei\n",
      "\n",
      "Saved the current state after iteration 28 in the file ./E1002_rpart.RDATA.\n",
      "\n",
      "[mbo] 28: cp=-0.62; minsplit=1555; minbucket=523; maxdepth=5 : y = 1.92e+07 : 23.1 secs : infill_ei\n",
      "\n",
      "Warning message in generateDesign(control$infill.opt.focussearch.points, ps.local, :\n",
      "\"generateDesign could only produce 999 points instead of 1000!\"\n",
      "[mbo] 29: cp=-0.751; minsplit=2958; minbucket=1478; maxdepth=5 : y = 1.73e+07 : 22.8 secs : infill_ei\n",
      "\n",
      "[mbo] 30: cp=-0.433; minsplit=1577; minbucket=244; maxdepth=8 : y = 2.04e+07 : 40.6 secs : infill_ei\n",
      "\n",
      "Saved the current state after iteration 31 in the file ./E1002_rpart.RDATA.\n",
      "\n",
      "[mbo] 31: cp=-0.61; minsplit=1931; minbucket=260; maxdepth=9 : y = 1.97e+07 : 42.6 secs : infill_ei\n",
      "\n",
      "[mbo] 32: cp=-0.175; minsplit=1469; minbucket=733; maxdepth=7 : y = 1.8e+07 : 34.7 secs : infill_ei\n",
      "\n",
      "Saved the current state after iteration 33 in the file ./E1002_rpart.RDATA.\n",
      "\n",
      "[mbo] 33: cp=-0.487; minsplit=1137; minbucket=14; maxdepth=7 : y = 2e+07 : 35.4 secs : infill_ei\n",
      "\n",
      "[mbo] 34: cp=-0.478; minsplit=1730; minbucket=5; maxdepth=7 : y = 1.95e+07 : 32.8 secs : infill_ei\n",
      "\n",
      "Saved the current state after iteration 35 in the file ./E1002_rpart.RDATA.\n",
      "\n",
      "[mbo] 35: cp=-0.379; minsplit=1176; minbucket=243; maxdepth=9 : y = 2.07e+07 : 49.3 secs : infill_ei\n",
      "\n",
      "[mbo] 36: cp=-0.423; minsplit=1234; minbucket=287; maxdepth=12 : y = 2.03e+07 : 57.5 secs : infill_ei\n",
      "\n",
      "Saved the current state after iteration 37 in the file ./E1002_rpart.RDATA.\n",
      "\n",
      "[mbo] 37: cp=-0.999; minsplit=2114; minbucket=323; maxdepth=20 : y = 1.92e+07 : 74.4 secs : infill_ei\n",
      "\n",
      "Saved the current state after iteration 38 in the file ./E1002_rpart.RDATA.\n",
      "\n",
      "[mbo] 38: cp=-1; minsplit=7997; minbucket=1998; maxdepth=16 : y = 1.59e+07 : 47.6 secs : infill_ei\n",
      "\n",
      "[mbo] 39: cp=-0.398; minsplit=1055; minbucket=302; maxdepth=3 : y = 1.7e+07 : 23.4 secs : infill_ei\n",
      "\n",
      "Saved the current state after iteration 40 in the file ./E1002_rpart.RDATA.\n",
      "\n",
      "[mbo] 40: cp=-0.804; minsplit=8000; minbucket=2000; maxdepth=3 : y = 1.59e+07 : 25.5 secs : infill_ei\n",
      "\n",
      "[mbo] 41: cp=-0.314; minsplit=1321; minbucket=207; maxdepth=9 : y = 2.04e+07 : 54.5 secs : infill_ei\n",
      "\n",
      "Saved the current state after iteration 42 in the file ./E1002_rpart.RDATA.\n",
      "\n",
      "[mbo] 42: cp=-0.368; minsplit=29; minbucket=2; maxdepth=11 : y = 1.78e+07 : 64.1 secs : infill_ei\n",
      "\n",
      "Saved the current state after iteration 43 in the file ./E1002_rpart.RDATA.\n",
      "\n",
      "[mbo] 43: cp=-0.892; minsplit=3528; minbucket=1761; maxdepth=20 : y = 1.8e+07 : 55.2 secs : infill_ei\n",
      "\n",
      "[mbo] 44: cp=-0.29; minsplit=7948; minbucket=1994; maxdepth=14 : y = 1.59e+07 : 47.3 secs : infill_ei\n",
      "\n",
      "Saved the current state after iteration 45 in the file ./E1002_rpart.RDATA.\n",
      "\n",
      "[mbo] 45: cp=-0.123; minsplit=1441; minbucket=164; maxdepth=6 : y = 2e+07 : 39.3 secs : infill_ei\n",
      "\n",
      "[mbo] 46: cp=-0.89; minsplit=3491; minbucket=324; maxdepth=6 : y = 1.79e+07 : 35.0 secs : infill_ei\n",
      "\n",
      "Saved the current state after iteration 47 in the file ./E1002_rpart.RDATA.\n",
      "\n",
      "[mbo] 47: cp=-0.678; minsplit=1967; minbucket=983; maxdepth=12 : y = 1.9e+07 : 54.0 secs : infill_ei\n",
      "\n",
      "[mbo] 48: cp=-0.684; minsplit=3998; minbucket=1998; maxdepth=20 : y = 1.82e+07 : 47.4 secs : infill_ei\n",
      "\n",
      "Saved the current state after iteration 49 in the file ./E1002_rpart.RDATA.\n",
      "\n",
      "[mbo] 49: cp=-1; minsplit=4435; minbucket=1999; maxdepth=6 : y = 1.74e+07 : 34.2 secs : infill_ei\n",
      "\n",
      "[mbo] 50: cp=-0.377; minsplit=1385; minbucket=168; maxdepth=13 : y = 2e+07 : 64.9 secs : infill_ei\n",
      "\n",
      "Saved the current state after iteration 51 in the file ./E1002_rpart.RDATA.\n",
      "\n",
      "[mbo] 51: cp=-0.545; minsplit=1134; minbucket=223; maxdepth=8 : y = 2.01e+07 : 43.2 secs : infill_ei\n",
      "\n",
      "[mbo] 52: cp=-0.107; minsplit=3685; minbucket=341; maxdepth=8 : y = 1.77e+07 : 41.7 secs : infill_ei\n",
      "\n",
      "Saved the current state after iteration 53 in the file ./E1002_rpart.RDATA.\n",
      "\n",
      "[mbo] 53: cp=-0.403; minsplit=1119; minbucket=169; maxdepth=8 : y = 2.01e+07 : 44.4 secs : infill_ei\n",
      "\n",
      "[mbo] 54: cp=-0.491; minsplit=970; minbucket=255; maxdepth=9 : y = 2e+07 : 54.7 secs : infill_ei\n",
      "\n",
      "Saved the current state after iteration 55 in the file ./E1002_rpart.RDATA.\n",
      "\n",
      "[mbo] 55: cp=-0.363; minsplit=1526; minbucket=374; maxdepth=10 : y = 2.03e+07 : 51.9 secs : infill_ei\n",
      "\n",
      "[mbo] 56: cp=-0.463; minsplit=1332; minbucket=205; maxdepth=9 : y = 2.04e+07 : 48.6 secs : infill_ei\n",
      "\n",
      "Saved the current state after iteration 57 in the file ./E1002_rpart.RDATA.\n",
      "\n",
      "[mbo] 57: cp=-0.636; minsplit=1486; minbucket=514; maxdepth=20 : y = 1.89e+07 : 66.4 secs : infill_ei\n",
      "\n",
      "Saved the current state after iteration 58 in the file ./E1002_rpart.RDATA.\n",
      "\n",
      "[mbo] 58: cp=-1; minsplit=1728; minbucket=140; maxdepth=15 : y = 1.95e+07 : 68.3 secs : infill_ei\n",
      "\n",
      "Saved the current state after iteration 59 in the file ./E1002_rpart.RDATA.\n",
      "\n",
      "[mbo] 59: cp=-0.275; minsplit=3467; minbucket=1729; maxdepth=20 : y = 1.8e+07 : 49.2 secs : infill_ei\n",
      "\n",
      "[mbo] 60: cp=-0.475; minsplit=8000; minbucket=524; maxdepth=20 : y = 1.59e+07 : 56.2 secs : infill_ei\n",
      "\n",
      "Saved the current state after iteration 61 in the file ./E1002_rpart.RDATA.\n",
      "\n",
      "[mbo] 61: cp=-0.891; minsplit=6029; minbucket=2000; maxdepth=13 : y = 1.66e+07 : 46.4 secs : infill_ei\n",
      "\n",
      "[mbo] 62: cp=-0.103; minsplit=1218; minbucket=1; maxdepth=3 : y = 1.68e+07 : 21.1 secs : infill_ei\n",
      "\n",
      "Saved the current state after iteration 63 in the file ./E1002_rpart.RDATA.\n",
      "\n",
      "[mbo] 63: cp=-0.148; minsplit=1974; minbucket=289; maxdepth=8 : y = 1.97e+07 : 48.1 secs : infill_ei\n",
      "\n",
      "[mbo] 64: cp=-0.384; minsplit=1713; minbucket=454; maxdepth=10 : y = 1.95e+07 : 58.4 secs : infill_ei\n",
      "\n",
      "Saved the current state after iteration 65 in the file ./E1002_rpart.RDATA.\n",
      "\n",
      "[mbo] 65: cp=-0.684; minsplit=7999; minbucket=950; maxdepth=6 : y = 1.59e+07 : 48.0 secs : infill_ei\n",
      "\n"
     ]
    }
   ],
   "source": [
    "#inicio la optimizacion bayesiana\n",
    "if(!file.exists(kbayesiana)) {\n",
    "  run  <- mbo(obj.fun, learner = surr.km, control = ctrl)\n",
    "} else  run  <- mboContinue( kbayesiana )   #retomo en caso que ya exista"
   ]
  },
  {
   "cell_type": "code",
   "execution_count": null,
   "id": "fd592624",
   "metadata": {
    "vscode": {
     "languageId": "r"
    }
   },
   "outputs": [],
   "source": [
    "quit( save=\"no\" )"
   ]
  },
  {
   "cell_type": "code",
   "execution_count": null,
   "id": "5b559bf4",
   "metadata": {
    "vscode": {
     "languageId": "r"
    }
   },
   "outputs": [],
   "source": []
  }
 ],
 "metadata": {
  "kernelspec": {
   "display_name": "R",
   "language": "R",
   "name": "ir"
  },
  "language_info": {
   "codemirror_mode": "r",
   "file_extension": ".r",
   "mimetype": "text/x-r-source",
   "name": "R",
   "pygments_lexer": "r",
   "version": "4.2.1"
  },
  "vscode": {
   "interpreter": {
    "hash": "0b87cd2a2c92c59199cd604023601109306b45cac2bd778b8aa97bbc69631231"
   }
  }
 },
 "nbformat": 4,
 "nbformat_minor": 5
}
