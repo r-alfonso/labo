{
 "cells": [
  {
   "cell_type": "code",
   "execution_count": 1,
   "id": "1069511e-1627-45a0-b841-d5c742f4dbe4",
   "metadata": {
    "vscode": {
     "languageId": "r"
    }
   },
   "outputs": [
    {
     "data": {
      "text/html": [
       "<table class=\"dataframe\">\n",
       "<caption>A matrix: 2 × 6 of type dbl</caption>\n",
       "<thead>\n",
       "\t<tr><th></th><th scope=col>used</th><th scope=col>(Mb)</th><th scope=col>gc trigger</th><th scope=col>(Mb)</th><th scope=col>max used</th><th scope=col>(Mb)</th></tr>\n",
       "</thead>\n",
       "<tbody>\n",
       "\t<tr><th scope=row>Ncells</th><td> 603292</td><td>32.3</td><td>1286368</td><td>68.7</td><td>1286368</td><td>68.7</td></tr>\n",
       "\t<tr><th scope=row>Vcells</th><td>1089002</td><td> 8.4</td><td>8388608</td><td>64.0</td><td>1633200</td><td>12.5</td></tr>\n",
       "</tbody>\n",
       "</table>\n"
      ],
      "text/latex": [
       "A matrix: 2 × 6 of type dbl\n",
       "\\begin{tabular}{r|llllll}\n",
       "  & used & (Mb) & gc trigger & (Mb) & max used & (Mb)\\\\\n",
       "\\hline\n",
       "\tNcells &  603292 & 32.3 & 1286368 & 68.7 & 1286368 & 68.7\\\\\n",
       "\tVcells & 1089002 &  8.4 & 8388608 & 64.0 & 1633200 & 12.5\\\\\n",
       "\\end{tabular}\n"
      ],
      "text/markdown": [
       "\n",
       "A matrix: 2 × 6 of type dbl\n",
       "\n",
       "| <!--/--> | used | (Mb) | gc trigger | (Mb) | max used | (Mb) |\n",
       "|---|---|---|---|---|---|---|\n",
       "| Ncells |  603292 | 32.3 | 1286368 | 68.7 | 1286368 | 68.7 |\n",
       "| Vcells | 1089002 |  8.4 | 8388608 | 64.0 | 1633200 | 12.5 |\n",
       "\n"
      ],
      "text/plain": [
       "       used    (Mb) gc trigger (Mb) max used (Mb)\n",
       "Ncells  603292 32.3 1286368    68.7 1286368  68.7\n",
       "Vcells 1089002  8.4 8388608    64.0 1633200  12.5"
      ]
     },
     "metadata": {},
     "output_type": "display_data"
    },
    {
     "name": "stderr",
     "output_type": "stream",
     "text": [
      "Loading required package: data.table\n",
      "\n"
     ]
    }
   ],
   "source": [
    "#Feature Engineering\n",
    "#creo nuevas variables dentro del mismo mes\n",
    "#Condimentar a gusto con nuevas variables\n",
    "\n",
    "#limpio la memoria\n",
    "rm( list=ls() )\n",
    "gc()\n",
    "\n",
    "require(\"data.table\")\n",
    "\n",
    "#Establezco el Working Directory\n",
    "setwd(\"C:/Users/bbvis/Documents/RG/Master/laboratorio\")\n",
    "\n",
    "\n",
    "EnriquecerDataset <- function( dataset , arch_destino )\n",
    "{\n",
    "  columnas_originales <-  copy(colnames( dataset ))\n",
    "\n",
    "  #INICIO de la seccion donde se deben hacer cambios con variables nuevas\n",
    "  #se crean los nuevos campos para MasterCard  y Visa, teniendo en cuenta los NA's\n",
    "  #varias formas de combinar Visa_status y Master_status\n",
    "  dataset[ , mv_status01       := pmax( Master_status,  Visa_status, na.rm = TRUE) ]\n",
    "  dataset[ , mv_status02       := Master_status +  Visa_status ]\n",
    "  dataset[ , mv_status03       := pmax( ifelse( is.na(Master_status), 10, Master_status) , ifelse( is.na(Visa_status), 10, Visa_status) ) ]\n",
    "  dataset[ , mv_status04       := ifelse( is.na(Master_status), 10, Master_status)  +  ifelse( is.na(Visa_status), 10, Visa_status)  ]\n",
    "  dataset[ , mv_status05       := ifelse( is.na(Master_status), 10, Master_status)  +  100*ifelse( is.na(Visa_status), 10, Visa_status)  ]\n",
    "\n",
    "  dataset[ , mv_status06       := ifelse( is.na(Visa_status), \n",
    "                                          ifelse( is.na(Master_status), 10, Master_status), \n",
    "                                          Visa_status)  ]\n",
    "\n",
    "  dataset[ , mv_status07       := ifelse( is.na(Master_status), \n",
    "                                          ifelse( is.na(Visa_status), 10, Visa_status), \n",
    "                                          Master_status)  ]\n",
    "\n",
    "\n",
    "    \n",
    "  #combino MasterCard y Visa\n",
    "  dataset[ , mv_mfinanciacion_limite := rowSums( cbind( Master_mfinanciacion_limite,  Visa_mfinanciacion_limite) , na.rm=TRUE ) ]\n",
    "\n",
    "  dataset[ , mv_Fvencimiento         := pmin( Master_Fvencimiento, Visa_Fvencimiento, na.rm = TRUE) ]\n",
    "  dataset[ , mv_Finiciomora          := pmin( Master_Finiciomora, Visa_Finiciomora, na.rm = TRUE) ]\n",
    "  dataset[ , mv_msaldototal          := rowSums( cbind( Master_msaldototal,  Visa_msaldototal) , na.rm=TRUE ) ]\n",
    "  dataset[ , mv_mconsumospesos       := rowSums( cbind( Master_mconsumospesos,  Visa_mconsumospesos) , na.rm=TRUE ) ]\n",
    "  dataset[ , mv_mconsumosdolares     := rowSums( cbind( Master_mconsumosdolares,  Visa_mconsumosdolares) , na.rm=TRUE ) ]\n",
    "  dataset[ , mv_mlimitecompra        := rowSums( cbind( Master_mlimitecompra,  Visa_mlimitecompra) , na.rm=TRUE ) ]\n",
    "  dataset[ , mv_mpagado              := rowSums( cbind( Master_mpagado,  Visa_mpagado) , na.rm=TRUE ) ]\n",
    "  dataset[ , mv_cconsumos            := rowSums( cbind( Master_cconsumos,  Visa_cconsumos) , na.rm=TRUE ) ]\n",
    "  dataset[ , mv_mpagominimo          := rowSums( cbind( Master_mpagominimo,  Visa_mpagominimo) , na.rm=TRUE ) ]\n",
    "\n",
    "  columnas_extendidas <-  copy( setdiff(  colnames(dataset), columnas_originales ) )\n",
    "\n",
    "  #grabo con nombre extendido\n",
    "  fwrite( dataset,\n",
    "          file=arch_destino,\n",
    "          sep= \",\" )\n",
    "}\n",
    "#------------------------------------------------------------------------------\n",
    "\n",
    "#kcarpeta_datasets    <- \"../input/laboratorio-de-implementacion-i-2021/\"   #KAGGLE\n",
    "kcarpeta_datasets    <-  \"./datasets/\"    #\"./buckets/b1/datasets/\"                          #VM o Ubuntu\n",
    "\n",
    "#Archivo con datos etiquetados para entrenamiento\n",
    "karchivo_entrada      <-  paste0(kcarpeta_datasets, \"competencia1_2022.csv\")\n",
    "karchivo_salida      <-  paste0(kcarpeta_datasets, \"competencia1_2022_FE.csv\")\n",
    "\n",
    "\n",
    "\n",
    "#lectura rapida del dataset  usando fread  de la libreria  data.table\n",
    "dataset1  <- fread(karchivo_entrada)\n",
    "\n",
    "EnriquecerDataset( dataset1, karchivo_salida )\n",
    "\n",
    "quit( save=\"no\")\n"
   ]
  },
  {
   "cell_type": "code",
   "execution_count": null,
   "id": "b9621ff5",
   "metadata": {
    "vscode": {
     "languageId": "r"
    }
   },
   "outputs": [],
   "source": []
  }
 ],
 "metadata": {
  "kernelspec": {
   "display_name": "R",
   "language": "R",
   "name": "ir"
  },
  "language_info": {
   "codemirror_mode": "r",
   "file_extension": ".r",
   "mimetype": "text/x-r-source",
   "name": "R",
   "pygments_lexer": "r",
   "version": "4.2.1"
  }
 },
 "nbformat": 4,
 "nbformat_minor": 5
}
