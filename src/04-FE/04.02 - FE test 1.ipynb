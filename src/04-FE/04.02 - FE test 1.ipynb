{
 "cells": [
  {
   "cell_type": "code",
   "execution_count": 9,
   "id": "1069511e-1627-45a0-b841-d5c742f4dbe4",
   "metadata": {
    "vscode": {
     "languageId": "r"
    }
   },
   "outputs": [
    {
     "data": {
      "text/html": [
       "<table class=\"dataframe\">\n",
       "<caption>A matrix: 2 × 6 of type dbl</caption>\n",
       "<thead>\n",
       "\t<tr><th></th><th scope=col>used</th><th scope=col>(Mb)</th><th scope=col>gc trigger</th><th scope=col>(Mb)</th><th scope=col>max used</th><th scope=col>(Mb)</th></tr>\n",
       "</thead>\n",
       "<tbody>\n",
       "\t<tr><th scope=row>Ncells</th><td> 665611</td><td>35.6</td><td> 1286368</td><td> 68.7</td><td> 1286368</td><td> 68.7</td></tr>\n",
       "\t<tr><th scope=row>Vcells</th><td>1251411</td><td> 9.6</td><td>61243418</td><td>467.3</td><td>76276626</td><td>582.0</td></tr>\n",
       "</tbody>\n",
       "</table>\n"
      ],
      "text/latex": [
       "A matrix: 2 × 6 of type dbl\n",
       "\\begin{tabular}{r|llllll}\n",
       "  & used & (Mb) & gc trigger & (Mb) & max used & (Mb)\\\\\n",
       "\\hline\n",
       "\tNcells &  665611 & 35.6 &  1286368 &  68.7 &  1286368 &  68.7\\\\\n",
       "\tVcells & 1251411 &  9.6 & 61243418 & 467.3 & 76276626 & 582.0\\\\\n",
       "\\end{tabular}\n"
      ],
      "text/markdown": [
       "\n",
       "A matrix: 2 × 6 of type dbl\n",
       "\n",
       "| <!--/--> | used | (Mb) | gc trigger | (Mb) | max used | (Mb) |\n",
       "|---|---|---|---|---|---|---|\n",
       "| Ncells |  665611 | 35.6 |  1286368 |  68.7 |  1286368 |  68.7 |\n",
       "| Vcells | 1251411 |  9.6 | 61243418 | 467.3 | 76276626 | 582.0 |\n",
       "\n"
      ],
      "text/plain": [
       "       used    (Mb) gc trigger (Mb)  max used (Mb) \n",
       "Ncells  665611 35.6  1286368    68.7  1286368  68.7\n",
       "Vcells 1251411  9.6 61243418   467.3 76276626 582.0"
      ]
     },
     "metadata": {},
     "output_type": "display_data"
    }
   ],
   "source": [
    "#Feature Engineering\n",
    "#creo nuevas variables dentro del mismo mes\n",
    "#Condimentar a gusto con nuevas variables\n",
    "\n",
    "#limpio la memoria\n",
    "rm( list=ls() )\n",
    "gc()\n",
    "\n",
    "require(\"data.table\")\n",
    "\n",
    "#Establezco el Working Directory\n",
    "setwd(\"C:/Users/bbvis/Documents/RG/Master/laboratorio\")\n",
    "\n",
    "\n",
    "EnriquecerDataset <- function( dataset , arch_destino )\n",
    "{\n",
    "  columnas_originales <-  copy(colnames( dataset ))\n",
    "\n",
    "  #INICIO de la seccion donde se deben hacer cambios con variables nuevas\n",
    "  #se crean los nuevos campos para MasterCard  y Visa, teniendo en cuenta los NA's\n",
    "  #varias formas de combinar Visa_status y Master_status\n",
    "  dataset[ , mv_status01       := pmax( Master_status,  Visa_status, na.rm = TRUE) ]\n",
    "  #dataset[ , mv_status02       := Master_status +  Visa_status ]\n",
    "  #dataset[ , mv_status03       := pmax( ifelse( is.na(Master_status), 10, Master_status) , ifelse( is.na(Visa_status), 10, Visa_status) ) ]\n",
    "  #dataset[ , mv_status04       := ifelse( is.na(Master_status), 10, Master_status)  +  ifelse( is.na(Visa_status), 10, Visa_status)  ]\n",
    "  #dataset[ , mv_status05       := ifelse( is.na(Master_status), 10, Master_status)  +  100*ifelse( is.na(Visa_status), 10, Visa_status)  ]\n",
    "\n",
    "  #dataset[ , mv_status06       := ifelse( is.na(Visa_status), \n",
    "  #                                        ifelse( is.na(Master_status), 10, Master_status), \n",
    "  #                                        Visa_status)  ]\n",
    "\n",
    "  #dataset[ , mv_status07       := ifelse( is.na(Master_status), \n",
    "  #                                        ifelse( is.na(Visa_status), 10, Visa_status), \n",
    "  #                                        Master_status)  ]\n",
    "\n",
    "\n",
    "    \n",
    "  #combino MasterCard y Visa\n",
    "  dataset[ , mv_mfinanciacion_limite := rowSums( cbind( Master_mfinanciacion_limite,  Visa_mfinanciacion_limite) , na.rm=TRUE ) ]\n",
    "  dataset[ , mv_Fvencimiento         := pmin( Master_Fvencimiento, Visa_Fvencimiento, na.rm = TRUE) ]\n",
    "  dataset[ , mv_Finiciomora          := pmin( Master_Finiciomora, Visa_Finiciomora, na.rm = TRUE) ]\n",
    "  dataset[ , mv_msaldototal          := rowSums( cbind( Master_msaldototal,  Visa_msaldototal) , na.rm=TRUE ) ]\n",
    "  dataset[ , mv_mconsumospesos       := rowSums( cbind( Master_mconsumospesos,  Visa_mconsumospesos) , na.rm=TRUE ) ]\n",
    "  dataset[ , mv_mconsumosdolares     := rowSums( cbind( Master_mconsumosdolares,  Visa_mconsumosdolares) , na.rm=TRUE ) ]\n",
    "  dataset[ , mv_mlimitecompra        := rowSums( cbind( Master_mlimitecompra,  Visa_mlimitecompra) , na.rm=TRUE ) ]\n",
    "  dataset[ , mv_mpagado              := rowSums( cbind( Master_mpagado,  Visa_mpagado) , na.rm=TRUE ) ]\n",
    "  dataset[ , mv_cconsumos            := rowSums( cbind( Master_cconsumos,  Visa_cconsumos) , na.rm=TRUE ) ]\n",
    "  dataset[ , mv_mpagominimo          := rowSums( cbind( Master_mpagominimo,  Visa_mpagominimo) , na.rm=TRUE ) ]\n",
    "\n",
    "  #combino los margenes y los dividos por la antiguedad para obtener los margenes de ganancia promedio por mes\n",
    "  dataset[ , fe_ganancia_margen_banco := rowSums( cbind( mactivos_margen,  mpasivos_margen) , na.rm=TRUE ) ]\n",
    "  dataset[ , fe_avg_mes_ganancia_margen_banco := fe_ganancia_margen_banco /  cliente_antiguedad ]\n",
    "    \n",
    "  #combino los montos de todas las cuentas del cliente\n",
    "  dataset[ , fe_montos_cuentas := rowSums( cbind(mcuenta_corriente_adicional, mcuenta_corriente, mcaja_ahorro, mcaja_ahorro_adicional, mcaja_ahorro_dolares) , na.rm=TRUE ) ]\n",
    "    \n",
    "  #combino la cantidad de prestamos\n",
    "  dataset[ , fe_cantidad_prestamos := rowSums( cbind( cprestamos_personales, cprestamos_prendarios, cprestamos_hipotecarios) , na.rm=TRUE ) ]\n",
    "    \n",
    "  #combino el total de deuda\n",
    "  dataset[ , fe_total_deuda := rowSums( cbind( mprestamos_personales, mprestamos_prendarios, mprestamos_hipotecarios) , na.rm=TRUE ) ]  \n",
    "   \n",
    "  #combino los montos de plazo fijo vigentes\n",
    "  dataset[ , fe_montos_plazos_fijos := rowSums( cbind( mplazo_fijo_dolares, mplazo_fijo_pesos) , na.rm=TRUE ) ]\n",
    "   \n",
    "  #combino los montos de inversiones\n",
    "  dataset[ , fe_montos_inversion := rowSums( cbind( minversion1_pesos, minversion1_dolares, minversion2) , na.rm=TRUE ) ]\n",
    "    \n",
    "  #combino la cantidad de seguros\n",
    "  dataset[ , fe_cantidad_seguros := rowSums( cbind( cseguro_vida, cseguro_auto, cseguro_vivienda, cseguro_accidentes_personales) , na.rm=TRUE ) ]\n",
    "   \n",
    "  #combino las acreditaciones del cliente\n",
    "  dataset[ , fe_acreditaciones := rowSums( cbind( mpayroll, mpayroll2) , na.rm=TRUE ) ]   \n",
    "    \n",
    "    \n",
    "  columnas_extendidas <-  copy( setdiff(  colnames(dataset), columnas_originales ) )\n",
    "\n",
    "  #grabo con nombre extendido\n",
    "  fwrite( dataset,\n",
    "          file=arch_destino,\n",
    "          sep= \",\" )\n",
    "}\n",
    "#------------------------------------------------------------------------------\n",
    "\n",
    "#kcarpeta_datasets    <- \"../input/laboratorio-de-implementacion-i-2021/\"   #KAGGLE\n",
    "kcarpeta_datasets    <-  \"./datasets/\"    #\"./buckets/b1/datasets/\"                          #VM o Ubuntu\n",
    "\n",
    "#Archivo con datos etiquetados para entrenamiento\n",
    "karchivo_entrada      <-  paste0(kcarpeta_datasets, \"competencia1_2022.csv\")\n",
    "karchivo_salida      <-  paste0(kcarpeta_datasets, \"competencia1_2022_FE_test.csv\")\n",
    "\n",
    "#lectura rapida del dataset  usando fread  de la libreria  data.table\n",
    "dataset1  <- fread(karchivo_entrada)\n",
    "\n",
    "EnriquecerDataset( dataset1, karchivo_salida )\n",
    "\n",
    "#Excluyo los campos con los cuales genere los FE\n",
    "dataset_filter  <- fread  (\"./datasets/competencia1_2022_FE_test.csv\")\n",
    "\n",
    "dataset2  <-  dataset_filter[,.SD, .SDcols = !c(\"mactivos_margen\", \"mpasivos_margen\", \"mcuenta_corriente_adicional\", \"mcuenta_corriente\", \"mcaja_ahorro\", \"mcaja_ahorro_adicional\", \"mcaja_ahorro_dolares\", \"cprestamos_personales\", \"mprestamos_personales\", \"cprestamos_prendarios\", \"mprestamos_prendarios\", \"cprestamos_hipotecarios\", \"mprestamos_hipotecarios\", \"mplazo_fijo_dolares\", \"mplazo_fijo_pesos\", \"minversion1_pesos\", \"minversion1_dolares\", \"minversion2\", \"cseguro_vida\", \"cseguro_auto\", \"cseguro_vivienda\", \"cseguro_accidentes_personales\", \"mpayroll\", \"mpayroll2\", \"Master_delinquency\", \"Master_status\", \"Master_mfinanciacion_limite\", \"Master_Fvencimiento\", \"Master_Finiciomora\", \"Master_msaldototal\", \"Master_msaldopesos\", \"Master_msaldodolares\", \"Master_mconsumospesos\", \"Master_mconsumosdolares\", \"Master_mlimitecompra\", \"Master_madelantopesos\", \"Master_madelantodolares\", \"Master_fultimo_cierre\", \"Master_mpagado\", \"Master_mpagospesos\", \"Master_mpagosdolares\", \"Master_fechaalta\", \"Master_mconsumototal\", \"Master_cconsumos\", \"Master_cadelantosefectivo\", \"Master_mpagominimo\", \"Visa_delinquency\", \"Visa_status\", \"Visa_mfinanciacion_limite\", \"Visa_Fvencimiento\", \"Visa_Finiciomora\", \"Visa_msaldototal\", \"Visa_msaldopesos\", \"Visa_msaldodolares\", \"Visa_mconsumospesos\", \"Visa_mconsumosdolares\", \"Visa_mlimitecompra\", \"Visa_madelantopesos\", \"Visa_madelantodolares\", \"Visa_fultimo_cierre\", \"Visa_mpagado\", \"Visa_mpagospesos\", \"Visa_mpagosdolares\", \"Visa_fechaalta\", \"Visa_mconsumototal\", \"Visa_cconsumos\", \"Visa_cadelantosefectivo\", \"Visa_mpagominimo\")]\n",
    "\n",
    "fwrite( dataset2,\n",
    "        file= \"./datasets/competencia1_2022_FE_test1.csv\",\n",
    "        sep= \",\")\n",
    "\n",
    "\n",
    "quit( save=\"no\")\n"
   ]
  },
  {
   "cell_type": "code",
   "execution_count": null,
   "id": "b9621ff5",
   "metadata": {
    "vscode": {
     "languageId": "r"
    }
   },
   "outputs": [],
   "source": []
  }
 ],
 "metadata": {
  "kernelspec": {
   "display_name": "R",
   "language": "R",
   "name": "ir"
  },
  "language_info": {
   "codemirror_mode": "r",
   "file_extension": ".r",
   "mimetype": "text/x-r-source",
   "name": "R",
   "pygments_lexer": "r",
   "version": "4.2.1"
  }
 },
 "nbformat": 4,
 "nbformat_minor": 5
}
